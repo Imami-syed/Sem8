{
 "cells": [
  {
   "cell_type": "code",
   "execution_count": 23,
   "metadata": {},
   "outputs": [
    {
     "name": "stdout",
     "output_type": "stream",
     "text": [
      "Baby Shark melody (12 seconds) created and saved as baby_shark_12sec.wav\n"
     ]
    }
   ],
   "source": [
    "import math\n",
    "import soundfile as sf  # for sound generation\n",
    "\n",
    "def generate_sine_tone(frequency, duration, sample_rate=44100):\n",
    "  \"\"\"\n",
    "  Generates a sine wave tone with specified frequency, duration, and sample rate.\n",
    "  \"\"\"\n",
    "  t = np.linspace(0, duration, int(duration * sample_rate), False)\n",
    "  return np.sin(2 * math.pi * frequency * t)\n",
    "\n",
    "# Define notes and durations (adjust durations as needed)\n",
    "notes = {\n",
    "  \"D\": (293.5, 0.5),  # Frequency, Duration (seconds)\n",
    "  \"E\": (329.5, 0.5),\n",
    "  \"G\": (392, 1),\n",
    "  \"C\": (0, 0.1),\n",
    "}\n",
    "\n",
    "# Define the melody as a list of note-duration pairs (adjusted for 12 seconds)\n",
    "melody = [\n",
    "    (\"D\", 0.3), (\"E\", 0.1), (\"G\", 0.4), (\"D\", 0.1), (\"E\", 0.1), (\"D\", 0.1), (\"E\", 0.1), (\"D\", 0.1), (\"E\", 0.1), (\"D\", 0.1), (\"E\", 0.1), (\"D\", 0.1), (\"E\", 0.1), (\"D\", 0.1), (\"E\", 0.1),   # Repeat first part twice\n",
    "    (\"D\", 0.3), (\"E\", 0.1), (\"G\", 0.4), (\"D\", 0.1), (\"E\", 0.1), (\"D\", 0.1),\n",
    "    # (\"D\", 0.5), (\"D\", 0.5), (\"E\", 0.5), (\"E\", 0.5), (\"G\", 1),  # Repeat first part again\n",
    "    # (\"G\", 1), (\"E\", 0.5), (\"D\", 0.5), (\"C\", 0.5), (\"C\", 0.5),  # Add silence for remaining duration\n",
    "]\n",
    "\n",
    "# Total melody duration calculation (adjusted for silence)\n",
    "total_duration = sum(duration for _, duration in melody)\n",
    "silence_duration = 24 - total_duration\n",
    "\n",
    "# Create the sound by combining sine tones for each note with harmonics\n",
    "sound = np.zeros(int(24 * 44100))  # Allocate space for 12 seconds\n",
    "time_cursor = 0\n",
    "for note, duration in melody:\n",
    "  # Generate fundamental frequency\n",
    "  fundamental_tone = generate_sine_tone(notes[note][0], duration)\n",
    "  sound[int(time_cursor * 44100):int((time_cursor + duration) * 44100)] += fundamental_tone\n",
    "  \n",
    "  # Add harmonics (up to 10th)\n",
    "  for harmonic in range(2, 24):\n",
    "    harmonic_frequency = harmonic * notes[note][0]\n",
    "    harmonic_tone = generate_sine_tone(harmonic_frequency, duration, sample_rate=44100)\n",
    "    sound[int(time_cursor * 44100):int((time_cursor + duration) * 44100)] += harmonic_tone / harmonic\n",
    "\n",
    "  time_cursor += duration\n",
    "time_cursor\n",
    "\n",
    "# Add silence for remaining duration (if any)\n",
    "sound[int(time_cursor * 44100)+1:] = np.zeros(int(silence_duration * 44100))  # Fill with zeros\n",
    "\n",
    "# Save the generated sound as a WAV file\n",
    "sf.write(\"baby_shark_12sec.wav\", sound, 44100)\n",
    "\n",
    "print(\"Baby Shark melody (12 seconds) created and saved as baby_shark_12sec.wav\")\n"
   ]
  },
  {
   "cell_type": "code",
   "execution_count": null,
   "metadata": {},
   "outputs": [],
   "source": []
  },
  {
   "cell_type": "code",
   "execution_count": null,
   "metadata": {},
   "outputs": [],
   "source": []
  }
 ],
 "metadata": {
  "kernelspec": {
   "display_name": "gaenn",
   "language": "python",
   "name": "python3"
  },
  "language_info": {
   "codemirror_mode": {
    "name": "ipython",
    "version": 3
   },
   "file_extension": ".py",
   "mimetype": "text/x-python",
   "name": "python",
   "nbconvert_exporter": "python",
   "pygments_lexer": "ipython3",
   "version": "3.11.5"
  }
 },
 "nbformat": 4,
 "nbformat_minor": 2
}

{
 "cells": [
  {
   "cell_type": "markdown",
   "metadata": {},
   "source": [
    "Imports \n"
   ]
  },
  {
   "cell_type": "code",
   "execution_count": null,
   "metadata": {},
   "outputs": [],
   "source": []
  },
  {
   "cell_type": "code",
   "execution_count": 4,
   "metadata": {},
   "outputs": [],
   "source": [
    "from scipy.interpolate import griddata\n",
    "import geopandas as gpd\n",
    "import numpy as np\n",
    "import matplotlib.pyplot as plt\n",
    "from shapely.geometry import Point\n"
   ]
  },
  {
   "cell_type": "code",
   "execution_count": 7,
   "metadata": {},
   "outputs": [
    {
     "ename": "NameError",
     "evalue": "name 'drought_frequencies' is not defined",
     "output_type": "error",
     "traceback": [
      "\u001b[0;31m---------------------------------------------------------------------------\u001b[0m",
      "\u001b[0;31mNameError\u001b[0m                                 Traceback (most recent call last)",
      "Cell \u001b[0;32mIn[7], line 48\u001b[0m\n\u001b[1;32m     45\u001b[0m river_basin_shapefile \u001b[38;5;241m=\u001b[39m load_shapefile(\u001b[38;5;124m\"\u001b[39m\u001b[38;5;124m./shapefile/godavari_shp.geojson\u001b[39m\u001b[38;5;124m\"\u001b[39m)\n\u001b[1;32m     47\u001b[0m \u001b[38;5;66;03m# Define station data\u001b[39;00m\n\u001b[0;32m---> 48\u001b[0m station_data \u001b[38;5;241m=\u001b[39m create_station_data(\u001b[43mdrought_frequencies\u001b[49m, average_spi_values, station_longitudes, station_latitudes)\n\u001b[1;32m     50\u001b[0m \u001b[38;5;66;03m# Calculate grid\u001b[39;00m\n\u001b[1;32m     51\u001b[0m grid_x, grid_y \u001b[38;5;241m=\u001b[39m calculate_grid(river_basin_shapefile)\n",
      "\u001b[0;31mNameError\u001b[0m: name 'drought_frequencies' is not defined"
     ]
    }
   ],
   "source": [
    "\n",
    "def load_shapefile(filepath):\n",
    "    \"\"\"Load river basin shapefile.\"\"\"\n",
    "    return gpd.read_file(filepath)\n",
    "\n",
    "def create_station_data(drought_frequencies, average_spi_values, station_longitudes, station_latitudes):\n",
    "    \"\"\"Create station data dictionary.\"\"\"\n",
    "    return {\n",
    "        'Frequency': drought_frequencies,\n",
    "        'SPI': average_spi_values,\n",
    "        'Longitude': station_longitudes,\n",
    "        'Latitude': station_latitudes,\n",
    "    }\n",
    "\n",
    "def calculate_grid(river_basin_shapefile):\n",
    "    \"\"\"Calculate grid points within the bounds of the river basin shapefile.\"\"\"\n",
    "    basin_xmin, basin_ymin, basin_xmax, basin_ymax = river_basin_shapefile.total_bounds\n",
    "    grid_x, grid_y = np.meshgrid(np.linspace(basin_xmin, basin_xmax, num=100), np.linspace(basin_ymin, basin_ymax, num=100))\n",
    "    return grid_x, grid_y\n",
    "\n",
    "def interpolate_data(station_data, grid_x, grid_y):\n",
    "    \"\"\"Interpolate station SPI data onto the grid using cubic method.\"\"\"\n",
    "    grid_z = griddata((station_data['Longitude'], station_data['Latitude']), station_data['SPI'], (grid_x, grid_y), method='cubic')\n",
    "    return grid_z\n",
    "\n",
    "def create_interpolated_grid(grid_x, grid_y, grid_z, river_basin_shapefile):\n",
    "    \"\"\"Create a GeoDataFrame from the interpolated grid data.\"\"\"\n",
    "    interpolated_grid = gpd.GeoDataFrame(\n",
    "        {'value': grid_z.flatten()},\n",
    "        geometry=gpd.points_from_xy(grid_x.flatten(), grid_y.flatten()), \n",
    "        crs=river_basin_shapefile.crs\n",
    "    )\n",
    "    clipped_interpolated_grid = gpd.clip(interpolated_grid, river_basin_shapefile)\n",
    "    return clipped_interpolated_grid\n",
    "\n",
    "def plot_data(river_basin_shapefile, clipped_interpolated_grid, station_data):\n",
    "    \"\"\"Plot river basin shapefile, interpolated grid, and station data.\"\"\"\n",
    "    river_basin_shapefile.plot(figsize=(12, 8), color='white', edgecolor='black')\n",
    "    clipped_interpolated_grid.plot(column='value',  ax=plt.gca(), legend=True)\n",
    "    plt.scatter(station_data['Longitude'], station_data['Latitude'], c=station_data['SPI'], edgecolor='black', label='Data Points')\n",
    "    for i, station_name in enumerate(station_data.keys()):\n",
    "        plt.annotate(station_name, (station_data['Longitude'][i], station_data['Latitude'][i]), fontsize=8, ha='left')\n",
    "    plt.show()\n",
    "\n",
    "# Load the river basin shapefile\n",
    "river_basin_shapefile = load_shapefile(\"./shapefile/godavari_shp.geojson\")\n",
    "\n",
    "# Define station data\n",
    "station_data = create_station_data(drought_frequencies, average_spi_values, station_longitudes, station_latitudes)\n",
    "\n",
    "# Calculate grid\n",
    "grid_x, grid_y = calculate_grid(river_basin_shapefile)\n",
    "\n",
    "# Interpolate data\n",
    "grid_z = interpolate_data(station_data, grid_x, grid_y)\n",
    "\n",
    "# Create interpolated grid\n",
    "clipped_interpolated_grid = create_interpolated_grid(grid_x, grid_y, grid_z, river_basin_shapefile)\n",
    "\n",
    "# Plot data\n",
    "plot_data(river_basin_shapefile, clipped_interpolated_grid, station_data)\n",
    "\n",
    "\n"
   ]
  },
  {
   "cell_type": "code",
   "execution_count": null,
   "metadata": {},
   "outputs": [],
   "source": [
    "\n",
    "\n",
    "def calculate_grid(station_data, river_basin_shapefile, num_points=100):\n",
    "    \"\"\"Calculate grid points within the bounds of the river basin shapefile.\"\"\"\n",
    "    basin_xmin, basin_ymin, basin_xmax, basin_ymax = river_basin_shapefile.total_bounds\n",
    "    grid_x, grid_y = np.meshgrid(np.linspace(basin_xmin, basin_xmax, num=num_points), np.linspace(basin_ymin, basin_ymax, num=num_points))\n",
    "    return grid_x, grid_y\n",
    "\n",
    "def interpolate_frequency(station_data, grid_x, grid_y, method='nearest'):\n",
    "    \"\"\"Interpolate station frequency data onto the grid.\"\"\"\n",
    "    grid_z = griddata((station_data['Longitude'], station_data['Latitude']), station_data['Frequency'], (grid_x, grid_y), method=method)\n",
    "    return grid_z\n",
    "\n",
    "def create_interpolated_frequency_grid(grid_x, grid_y, grid_z, river_basin_shapefile):\n",
    "    \"\"\"Create a GeoDataFrame from the interpolated grid data.\"\"\"\n",
    "    interpolated_grid = gpd.GeoDataFrame(\n",
    "        {'Frequency': grid_z.flatten()},\n",
    "        geometry=gpd.points_from_xy(grid_x.flatten(), grid_y.flatten()),\n",
    "        crs=river_basin_shapefile.crs\n",
    "    )\n",
    "    clipped_interpolated_grid = gpd.clip(interpolated_grid, river_basin_shapefile)\n",
    "    return clipped_interpolated_grid\n",
    "\n",
    "def plot_frequency_data(river_basin_shapefile, clipped_interpolated_grid, station_data):\n",
    "    \"\"\"Plot river basin shapefile, interpolated grid, and station data.\"\"\"\n",
    "    river_basin_shapefile.plot(figsize=(12, 8), color='white', edgecolor='black')\n",
    "    clipped_interpolated_grid.plot(column='Frequency', ax=plt.gca(), legend=True)\n",
    "    plt.scatter(station_data['Longitude'], station_data['Latitude'], c=station_data['Frequency'], edgecolor='black', label='Data Points')\n",
    "    for i, station_name in enumerate(station_data.keys()):\n",
    "        plt.annotate(station_name, (station_data['Longitude'][i], station_data['Latitude'][i]), fontsize=8, ha='left')\n",
    "    plt.show()\n",
    "\n",
    "# Calculate grid\n",
    "grid_x, grid_y = calculate_grid(station_data, river_basin_shapefile)\n",
    "\n",
    "# Interpolate frequency data\n",
    "grid_z = interpolate_frequency(station_data, grid_x, grid_y, method='nearest')\n",
    "\n",
    "# Create interpolated frequency grid\n",
    "clipped_interpolated_grid = create_interpolated_frequency_grid(grid_x, grid_y, grid_z, river_basin_shapefile)\n",
    "\n",
    "# Plot frequency data\n",
    "plot_frequency_data(river_basin_shapefile, clipped_interpolated_grid, station_data)\n",
    "\n"
   ]
  }
 ],
 "metadata": {
  "kernelspec": {
   "display_name": "base",
   "language": "python",
   "name": "python3"
  },
  "language_info": {
   "codemirror_mode": {
    "name": "ipython",
    "version": 3
   },
   "file_extension": ".py",
   "mimetype": "text/x-python",
   "name": "python",
   "nbconvert_exporter": "python",
   "pygments_lexer": "ipython3",
   "version": "3.11.5"
  }
 },
 "nbformat": 4,
 "nbformat_minor": 2
}
